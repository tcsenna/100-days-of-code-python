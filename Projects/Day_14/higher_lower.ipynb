{
  "nbformat": 4,
  "nbformat_minor": 0,
  "metadata": {
    "colab": {
      "name": "higher-lower.ipynb",
      "provenance": [],
      "collapsed_sections": []
    },
    "kernelspec": {
      "name": "python3",
      "display_name": "Python 3"
    },
    "language_info": {
      "name": "python"
    }
  },
  "cells": [
    {
      "cell_type": "code",
      "metadata": {
        "id": "Jgsl9Zrna57T"
      },
      "source": [
        "from game_data import data\n",
        "from art import logo, vs\n",
        "import random\n"
      ],
      "execution_count": 52,
      "outputs": []
    },
    {
      "cell_type": "code",
      "metadata": {
        "id": "0HuhX7jwydkt"
      },
      "source": [
        "def maior(d1,d2):\n",
        "  if d1['follower_count'] > d2['follower_count']:\n",
        "    return 'A'\n",
        "  else:\n",
        "    return 'B'"
      ],
      "execution_count": 44,
      "outputs": []
    },
    {
      "cell_type": "code",
      "metadata": {
        "id": "yWhmkw4c195D"
      },
      "source": [
        "def game():\n",
        "  print(logo)\n",
        "  continua=True\n",
        "  dic1=random.choice(data)\n",
        "  dic2=random.choice(data)\n",
        "  pontos=0\n",
        "  while continua==True:\n",
        "    while dic1==dic2: #remover a chance de serem 2 personalidades iguais\n",
        "      dic2=random.choice(data)\n",
        "    popular=maior(dic1,dic2)\n",
        "    print(f\"Compare A: {dic1['name']}, a {dic1['description']} from {dic1['country']}... \\n{vs}\\n\")\n",
        "    print(f\"Against B: {dic2['name']}, a {dic2['description']} from {dic2['country']}...\\n\")\n",
        "    guess=input(\"Who has more followers? Type 'A' or 'B': \\n\")\n",
        "    if guess==popular:\n",
        "      pontos+=1\n",
        "      print(f\"You're right! Current score: {pontos}.\\n\")\n",
        "      dic1=dic2\n",
        "      dic2=random.choice(data0)\n",
        "    else:\n",
        "      print(f\"Sorry, that's wrong. Final score: {pontos}.\\n\")\n",
        "      continua=False\n"
      ],
      "execution_count": 58,
      "outputs": []
    },
    {
      "cell_type": "code",
      "metadata": {
        "colab": {
          "base_uri": "https://localhost:8080/"
        },
        "id": "aJjMKzbNbRo0",
        "outputId": "3e604d43-664d-4a2f-98d1-784207115bfb"
      },
      "source": [
        "game()"
      ],
      "execution_count": 63,
      "outputs": [
        {
          "output_type": "stream",
          "text": [
            "\n",
            "    __  ___       __             \n",
            "   / / / (_)___ _/ /_  ___  _____\n",
            "  / /_/ / / __ `/ __ \\/ _ \\/ ___/\n",
            " / __  / / /_/ / / / /  __/ /    \n",
            "/_/ ///_/\\__, /_/ /_/\\___/_/     \n",
            "   / /  /____/_      _____  _____\n",
            "  / /   / __ \\ | /| / / _ \\/ ___/\n",
            " / /___/ /_/ / |/ |/ /  __/ /    \n",
            "/_____/\\____/|__/|__/\\___/_/     \n",
            "\n",
            "Compare A: Vin Diesel, a Actor from United States... \n",
            "\n",
            " _    __    \n",
            "| |  / /____\n",
            "| | / / ___/\n",
            "| |/ (__  ) \n",
            "|___/____(_)\n",
            "\n",
            "\n",
            "Against B: Kim Kardashian, a Reality TV personality and businesswoman from United States...\n",
            "\n",
            "Who has more followers? Type 'A' or 'B': \n",
            "B\n",
            "You're right! Current score: 1.\n",
            "\n",
            "Compare A: Kim Kardashian, a Reality TV personality and businesswoman from United States... \n",
            "\n",
            " _    __    \n",
            "| |  / /____\n",
            "| | / / ___/\n",
            "| |/ (__  ) \n",
            "|___/____(_)\n",
            "\n",
            "\n",
            "Against B: Cristiano Ronaldo, a Footballer from Portugal...\n",
            "\n",
            "Who has more followers? Type 'A' or 'B': \n",
            "B\n",
            "You're right! Current score: 2.\n",
            "\n",
            "Compare A: Cristiano Ronaldo, a Footballer from Portugal... \n",
            "\n",
            " _    __    \n",
            "| |  / /____\n",
            "| | / / ___/\n",
            "| |/ (__  ) \n",
            "|___/____(_)\n",
            "\n",
            "\n",
            "Against B: Instagram, a Social media platform from United States...\n",
            "\n",
            "Who has more followers? Type 'A' or 'B': \n",
            "B\n",
            "You're right! Current score: 3.\n",
            "\n",
            "Compare A: Instagram, a Social media platform from United States... \n",
            "\n",
            " _    __    \n",
            "| |  / /____\n",
            "| | / / ___/\n",
            "| |/ (__  ) \n",
            "|___/____(_)\n",
            "\n",
            "\n",
            "Against B: Ariana Grande, a Musician and actress from United States...\n",
            "\n",
            "Who has more followers? Type 'A' or 'B': \n",
            "A\n",
            "You're right! Current score: 4.\n",
            "\n",
            "Compare A: Ariana Grande, a Musician and actress from United States... \n",
            "\n",
            " _    __    \n",
            "| |  / /____\n",
            "| | / / ___/\n",
            "| |/ (__  ) \n",
            "|___/____(_)\n",
            "\n",
            "\n",
            "Against B: Vin Diesel, a Actor from United States...\n",
            "\n",
            "Who has more followers? Type 'A' or 'B': \n",
            "A\n",
            "You're right! Current score: 5.\n",
            "\n",
            "Compare A: Vin Diesel, a Actor from United States... \n",
            "\n",
            " _    __    \n",
            "| |  / /____\n",
            "| | / / ___/\n",
            "| |/ (__  ) \n",
            "|___/____(_)\n",
            "\n",
            "\n",
            "Against B: Cristiano Ronaldo, a Footballer from Portugal...\n",
            "\n",
            "Who has more followers? Type 'A' or 'B': \n",
            "B\n",
            "You're right! Current score: 6.\n",
            "\n",
            "Compare A: Cristiano Ronaldo, a Footballer from Portugal... \n",
            "\n",
            " _    __    \n",
            "| |  / /____\n",
            "| | / / ___/\n",
            "| |/ (__  ) \n",
            "|___/____(_)\n",
            "\n",
            "\n",
            "Against B: Ariana Grande, a Musician and actress from United States...\n",
            "\n",
            "Who has more followers? Type 'A' or 'B': \n",
            "B\n",
            "Sorry, that's wrong. Final score: 6.\n",
            "\n"
          ],
          "name": "stdout"
        }
      ]
    }
  ]
}