{
  "nbformat": 4,
  "nbformat_minor": 0,
  "metadata": {
    "colab": {
      "name": "SecretAuction.ipynb",
      "provenance": []
    },
    "kernelspec": {
      "name": "python3",
      "display_name": "Python 3"
    },
    "language_info": {
      "name": "python"
    }
  },
  "cells": [
    {
      "cell_type": "code",
      "metadata": {
        "id": "HHQSbjQ0p0un"
      },
      "source": [
        "from os import system, name \n",
        "  \n",
        "# define our clear function \n",
        "def clear(): \n",
        "  \n",
        "    # for windows \n",
        "    if name == 'nt': \n",
        "        _ = system('cls') \n",
        "  \n",
        "    # for mac and linux(here, os.name is 'posix') \n",
        "    else: \n",
        "        _ = system('clear') \n"
      ],
      "execution_count": 1,
      "outputs": []
    },
    {
      "cell_type": "code",
      "metadata": {
        "id": "xvFLF8zarPbl"
      },
      "source": [
        "logo = '''\n",
        "                         ___________\n",
        "                         \\         /\n",
        "                          )_______(\n",
        "                          |\"\"\"\"\"\"\"|_.-._,.---------.,_.-._\n",
        "                          |       | | |               | | ''-.\n",
        "                          |       |_| |_             _| |_..-'\n",
        "                          |_______| '-' `'---------'` '-'\n",
        "                          )\"\"\"\"\"\"\"(\n",
        "                         /_________\\\\\n",
        "                       .-------------.\n",
        "                      /_______________\\\\\n",
        "'''"
      ],
      "execution_count": 2,
      "outputs": []
    },
    {
      "cell_type": "code",
      "metadata": {
        "colab": {
          "base_uri": "https://localhost:8080/"
        },
        "id": "EjAFRzUlr4Gj",
        "outputId": "8c939483-9838-489c-bdc0-af190fc55804"
      },
      "source": [
        "print(logo)\n",
        "print('Welcome to the secret auction program! ')\n",
        "lances={}\n",
        "continua=True\n",
        "while continua:\n",
        "  nome=input(\"What's your name?\\n\")\n",
        "  bid=int(input(\"What's your bid? \\n$\"))\n",
        "  lances[nome]=bid\n",
        "  decision=input(\"Are there any other bidders? Type 'y' or 'n'.\\n\")\n",
        "  if decision=='y':\n",
        "    clear()\n",
        "  if decision=='n':\n",
        "    continua=False\n",
        "\n",
        "max_bidder = max(lances, key = lances.get) \n",
        "print(f'The winner is {max_bidder} with a bid of ${lances[max_bidder]}.')"
      ],
      "execution_count": 17,
      "outputs": [
        {
          "output_type": "stream",
          "text": [
            "\n",
            "                         ___________\n",
            "                         \\         /\n",
            "                          )_______(\n",
            "                          |\"\"\"\"\"\"\"|_.-._,.---------.,_.-._\n",
            "                          |       | | |               | | ''-.\n",
            "                          |       |_| |_             _| |_..-'\n",
            "                          |_______| '-' `'---------'` '-'\n",
            "                          )\"\"\"\"\"\"\"(\n",
            "                         /_________\\\n",
            "                       .-------------.\n",
            "                      /_______________\\\n",
            "\n",
            "Welcome to the secret auction program! \n",
            "What's your name?\n",
            "Jenny\n",
            "What's your bid? \n",
            "$230\n",
            "Are there any other bidders? Type 'y' or 'n'.\n",
            "y\n",
            "What's your name?\n",
            "Melanie\n",
            "What's your bid? \n",
            "$250\n",
            "Are there any other bidders? Type 'y' or 'n'.\n",
            "y\n",
            "What's your name?\n",
            "Lauren\n",
            "What's your bid? \n",
            "$300\n",
            "Are there any other bidders? Type 'y' or 'n'.\n",
            "y\n",
            "What's your name?\n",
            "Carla\n",
            "What's your bid? \n",
            "$200\n",
            "Are there any other bidders? Type 'y' or 'n'.\n",
            "n\n",
            "The winner is Lauren with a bid of $300.\n"
          ],
          "name": "stdout"
        }
      ]
    }
  ]
}