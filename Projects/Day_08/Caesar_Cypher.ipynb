{
  "nbformat": 4,
  "nbformat_minor": 0,
  "metadata": {
    "colab": {
      "name": "Caesar_Cypher.ipynb",
      "provenance": []
    },
    "kernelspec": {
      "name": "python3",
      "display_name": "Python 3"
    },
    "language_info": {
      "name": "python"
    }
  },
  "cells": [
    {
      "cell_type": "code",
      "metadata": {
        "id": "jao94aBus7C0"
      },
      "source": [
        "alphabet = ['a', 'b', 'c', 'd', 'e', 'f', 'g', 'h', 'i', 'j', 'k', 'l', 'm', 'n', 'o', 'p', 'q', 'r', 's', 't', 'u', 'v', 'w', 'x', 'y', 'z']\n",
        "\n",
        "def caesar(start_text, shift_amount, cipher_direction):\n",
        "  start_text=start_text.lower()\n",
        "  new_list=['_' for i in start_text]\n",
        "  shift_amount=shift_amount%len(alphabet)\n",
        "  if cipher_direction=='d':\n",
        "    shift_amount*=(-1)\n",
        "  for i in range(len(start_text)):\n",
        "    if start_text[i] not in alphabet:\n",
        "      new_list[i]=start_text[i]\n",
        "    else:\n",
        "      new_pos=alphabet.index(start_text[i])+shift_amount\n",
        "      new_pos=new_pos%(len(alphabet))\n",
        "      new_list[i]=alphabet[new_pos]\n",
        "  resposta=''.join(map(str, new_list))\n",
        "  print(f'Your string was {start_text} and now is {resposta}   !')"
      ],
      "execution_count": 18,
      "outputs": []
    },
    {
      "cell_type": "code",
      "metadata": {
        "colab": {
          "base_uri": "https://localhost:8080/"
        },
        "id": "ZJlCjm10p50c",
        "outputId": "97002e30-b1b5-4b2d-c6c7-835a28f118d9"
      },
      "source": [
        "#Caesar Cipher Challenge\n",
        "continua_jogo=True\n",
        "while continua_jogo:\n",
        "  direction = input(\"Type 'e' to encrypt, type 'd' to decrypt:\\n\")\n",
        "  text = input(\"Type your message:\\n\").lower()\n",
        "  shift = int(input(\"Type the shift number:\\n\"))\n",
        "  caesar(text,shift,direction)\n",
        "  user_decision=input(\"Do you want to continue the game? Type Y for yes or N for no. \\n\")\n",
        "  if user_decision=='N':\n",
        "    print('Bye bye! ')\n",
        "    continua_jogo=False\n"
      ],
      "execution_count": 21,
      "outputs": [
        {
          "output_type": "stream",
          "text": [
            "Type 'e' to encrypt, type 'd' to decrypt:\n",
            "e\n",
            "Type your message:\n",
            "spongebob squarepants\n",
            "Type the shift number:\n",
            "8\n",
            "Your string was spongebob squarepants and now is axwvomjwj aycizmxivba   !\n",
            "Do you want to continue the game? Type Y for yes or N for no. \n",
            " Y\n",
            "Type 'e' to encrypt, type 'd' to decrypt:\n",
            "d\n",
            "Type your message:\n",
            "axwvomjwj aycizmxivba\n",
            "Type the shift number:\n",
            "8\n",
            "Your string was axwvomjwj aycizmxivba and now is spongebob squarepants   !\n",
            "Do you want to continue the game? Type Y for yes or N for no. \n",
            " Y\n",
            "Type 'e' to encrypt, type 'd' to decrypt:\n",
            "e\n",
            "Type your message:\n",
            "ivete sangalo \n",
            "Type the shift number:\n",
            "26\n",
            "Your string was ivete sangalo  and now is ivete sangalo    !\n",
            "Do you want to continue the game? Type Y for yes or N for no. \n",
            " N\n",
            "Bye bye! \n"
          ],
          "name": "stdout"
        }
      ]
    }
  ]
}