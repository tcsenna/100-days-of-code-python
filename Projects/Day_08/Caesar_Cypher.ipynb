{
  "nbformat": 4,
  "nbformat_minor": 0,
  "metadata": {
    "colab": {
      "name": "Caesar_Cypher.ipynb",
      "provenance": []
    },
    "kernelspec": {
      "name": "python3",
      "display_name": "Python 3"
    },
    "language_info": {
      "name": "python"
    }
  },
  "cells": [
    {
      "cell_type": "code",
      "metadata": {
        "id": "jao94aBus7C0"
      },
      "source": [
        "alphabet = ['a', 'b', 'c', 'd', 'e', 'f', 'g', 'h', 'i', 'j', 'k', 'l', 'm', 'n', 'o', 'p', 'q', 'r', 's', 't', 'u', 'v', 'w', 'x', 'y', 'z']\n",
        "\n",
        "def caesar(start_text, shift_amount, cipher_direction):\n",
        "  start_text=start_text.lower()\n",
        "  new_list=['_' for i in start_text]\n",
        "  shift_amount=shift_amount%len(alphabet)\n",
        "  if cipher_direction=='d':\n",
        "    shift_amount*=(-1)\n",
        "  for i in range(len(start_text)):\n",
        "    if start_text[i] not in alphabet:\n",
        "      new_list[i]=start_text[i]\n",
        "    else:\n",
        "      new_pos=alphabet.index(start_text[i])+shift_amount\n",
        "      new_pos=new_pos%(len(alphabet))\n",
        "      new_list[i]=alphabet[new_pos]\n",
        "  resposta=''.join(map(str, new_list))\n",
        "  print(start_text)\n",
        "  print(f'Your string was {start_text} and now is {resposta}   !')"
      ],
      "execution_count": 15,
      "outputs": []
    },
    {
      "cell_type": "code",
      "metadata": {
        "colab": {
          "base_uri": "https://localhost:8080/"
        },
        "id": "ZJlCjm10p50c",
        "outputId": "f0c6f3f0-ee0d-40c0-dc50-9e235661f199"
      },
      "source": [
        "#Caesar Cipher Challenge\n",
        "continua_jogo=True\n",
        "while continua_jogo:\n",
        "  direction = input(\"Type 'e' to encrypt, type 'd' to decrypt:\\n\")\n",
        "  text = input(\"Type your message:\\n\").lower()\n",
        "  shift = int(input(\"Type the shift number:\\n\"))\n",
        "  caesar(text,shift,direction)\n",
        "  user_decision=input(\"Do you want to continue the game? Type Y for yes or N for no. \\n \")\n",
        "  if user_decision=='N':\n",
        "    print('Bye bye! ')\n",
        "    continua_jogo=False\n"
      ],
      "execution_count": 16,
      "outputs": [
        {
          "output_type": "stream",
          "text": [
            "Type 'e' to encrypt, type 'd' to decrypt:\n",
            "e\n",
            "Type your message:\n",
            "bob esponja e lula molusco =)\n",
            "Type the shift number:\n",
            "6\n",
            "bob esponja e lula molusco =)\n",
            "Your string was bob esponja e lula molusco =) and now is huh kyvutpg k rarg surayiu =)   !\n",
            "Do you want to continue the game? Type Y for yes or N for no. Y\n",
            "Type 'e' to encrypt, type 'd' to decrypt:\n",
            "d\n",
            "Type your message:\n",
            "huh kyvutpg k rarg surayiu =)\n",
            "Type the shift number:\n",
            "6\n",
            "huh kyvutpg k rarg surayiu =)\n",
            "Your string was huh kyvutpg k rarg surayiu =) and now is bob esponja e lula molusco =)   !\n",
            "Do you want to continue the game? Type Y for yes or N for no. Y\n",
            "Type 'e' to encrypt, type 'd' to decrypt:\n",
            "e\n",
            "Type your message:\n",
            "estou atrasada nas tarefas\n",
            "Type the shift number:\n",
            "56\n",
            "estou atrasada nas tarefas\n",
            "Your string was estou atrasada nas tarefas and now is iwxsy exvewehe rew xevijew   !\n",
            "Do you want to continue the game? Type Y for yes or N for no. Y\n",
            "Type 'e' to encrypt, type 'd' to decrypt:\n",
            "d\n",
            "Type your message:\n",
            "iwxsy exvewehe rew xevijew\n",
            "Type the shift number:\n",
            "56\n",
            "iwxsy exvewehe rew xevijew\n",
            "Your string was iwxsy exvewehe rew xevijew and now is estou atrasada nas tarefas   !\n",
            "Do you want to continue the game? Type Y for yes or N for no. N\n",
            "Bye bye! \n"
          ],
          "name": "stdout"
        }
      ]
    }
  ]
}