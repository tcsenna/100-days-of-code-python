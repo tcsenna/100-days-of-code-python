{
  "nbformat": 4,
  "nbformat_minor": 0,
  "metadata": {
    "colab": {
      "name": "Scope.ipynb",
      "provenance": []
    },
    "kernelspec": {
      "name": "python3",
      "display_name": "Python 3"
    },
    "language_info": {
      "name": "python"
    }
  },
  "cells": [
    {
      "cell_type": "markdown",
      "metadata": {
        "id": "c-MGpuW09zxO"
      },
      "source": [
        "## Namespaces : \n",
        "A namespace is a container where names are mapped to objects, they are used to avoid confusions in cases where same names exist in different namespaces. They are created by modules, functions, classes etc.\n",
        "\n",
        "## Scope : \n",
        "A scope defines the hierarchical order in which the namespaces have to be searched in order to obtain the mappings of name-to-object(variables). It is a context in which variables exist and from which they are referenced. It defines the accessibility and the lifetime of a variable. Let us take a simple example as shown below:"
      ]
    },
    {
      "cell_type": "code",
      "metadata": {
        "id": "4i7MKBKolReC"
      },
      "source": [
        "enemies=1\n",
        "def increase_enemies():\n",
        "  enemies=2\n",
        "  print(f'enemies inside function: {enemies}')"
      ],
      "execution_count": null,
      "outputs": []
    },
    {
      "cell_type": "code",
      "metadata": {
        "colab": {
          "base_uri": "https://localhost:8080/"
        },
        "id": "1hTYTpl2lRpn",
        "outputId": "541383a4-0cb5-4845-e193-d9e480b01f7a"
      },
      "source": [
        "increase_enemies()\n",
        "print(f'outside function, enemies is equal to {enemies}')"
      ],
      "execution_count": null,
      "outputs": [
        {
          "output_type": "stream",
          "text": [
            "enemies inside function: 2\n",
            "outside function, enemies is equal to 1\n"
          ],
          "name": "stdout"
        }
      ]
    },
    {
      "cell_type": "markdown",
      "metadata": {
        "id": "HPww_UVb-sac"
      },
      "source": [
        "The scopes are listed below in terms of hierarchy(highest to lowest/narrowest to broadest):\n",
        "\n",
        "* Local(L): Defined inside function/class\n",
        "* Enclosed(E): Defined inside enclosing functions(Nested function concept)\n",
        "* Global(G): Defined at the uppermost level. defined at the top level of my file. It is not within another function.\n",
        "* Built-in(B): Reserved names in Python builtin modules\n",
        "\n",
        "\n",
        "\n",
        "The concept of global and local scope doesn't just apply to variables. It also applies to functions and basically anything else you name. This is a concept called the namespaces. Anything you give a name to has a namespace. That namespace is valid in certain scopes. This concept of scope applies to basically anything you name. If I nest a function A inside another function B, A now has a local scope within the function B."
      ]
    },
    {
      "cell_type": "markdown",
      "metadata": {
        "id": "BxZATcM_FilE"
      },
      "source": [
        "## Enclosed Scope\n",
        "For the enclosed scope, we need to define an outer function enclosing the inner function, comment out the local pi variable of inner function and refer to pi using the nonlocal keyword. When outer() is executed, inner() and consequently the print functions are executed, which print the value the enclosed pi variable. The statement in line 10 looks for variable in local scope of inner, but does not find it there. Since pi is referred with the nonlocal keyword, it means that pi needs to be accessed from the outer function(i.e the outer scope). To summarize, the pi variable is not found in local scope, so the higher scopes are looked up. It is found in both enclosed and global scopes. But as per the LEGB hierarchy, the enclosed scope variable is considered even though we have one defined in the global scope.\n",
        " "
      ]
    },
    {
      "cell_type": "code",
      "metadata": {
        "colab": {
          "base_uri": "https://localhost:8080/"
        },
        "id": "uKRRnqsBEX45",
        "outputId": "2e11112f-8052-4c9e-8664-0bafb25613fc"
      },
      "source": [
        "pi = 'global pi variable'\n",
        "  \n",
        "def outer():\n",
        "    pi = 'outer pi variable'\n",
        "    def inner():\n",
        "        # pi = 'inner pi variable'\n",
        "        nonlocal pi\n",
        "        print(pi)\n",
        "    inner()\n",
        "\n",
        "\n",
        "outer()\n",
        "print(pi)"
      ],
      "execution_count": null,
      "outputs": [
        {
          "output_type": "stream",
          "text": [
            "outer pi variable\n",
            "global pi variable\n"
          ],
          "name": "stdout"
        }
      ]
    },
    {
      "cell_type": "markdown",
      "metadata": {
        "id": "4jSsUf3KHtQx"
      },
      "source": [
        "The final check can be done by importing pi from math module and commenting the global, enclosed and local pi variables as shown below:"
      ]
    },
    {
      "cell_type": "code",
      "metadata": {
        "colab": {
          "base_uri": "https://localhost:8080/"
        },
        "id": "ThtW2lRQHsVa",
        "outputId": "93b5507b-0851-4478-f867-ddb42257e0ad"
      },
      "source": [
        "# Built-in Scope\n",
        "from math import pi\n",
        "  \n",
        "# pi = 'global pi variable'\n",
        "  \n",
        "def outer():\n",
        "    # pi = 'outer pi variable'\n",
        "    def inner():\n",
        "        # pi = 'inner pi variable'\n",
        "        print(pi)\n",
        "    inner()\n",
        "  \n",
        "outer()"
      ],
      "execution_count": null,
      "outputs": [
        {
          "output_type": "stream",
          "text": [
            "3.141592653589793\n"
          ],
          "name": "stdout"
        }
      ]
    },
    {
      "cell_type": "markdown",
      "metadata": {
        "id": "byD2v26hENK8"
      },
      "source": [
        "## Does Python have a block scope?\n",
        "\n",
        "\n",
        "Now, unlike some other programming languages, if you've come from say C++ or Java, there is no such thing as block scope in Python. What this means is that if you were to create an if statement, say if 3 > 2, and if you were to create a new variable inside an if block or a while loop or a for loop, basically any sort of block of code that's indented, this does not count as a fence.\n",
        "\n",
        "It still has the same scope as its enclosing function, or if there is no enclosing function then it has global scope.\n",
        "\n",
        "Blocks like if, while, for... all of these blocks of code with colons and\n",
        "\n",
        "indentation, they don't count as creating a local scope."
      ]
    },
    {
      "cell_type": "code",
      "metadata": {
        "colab": {
          "base_uri": "https://localhost:8080/"
        },
        "id": "xXs34Q_FlRyA",
        "outputId": "5afdbb08-42d2-4a30-c859-695619eee7c0"
      },
      "source": [
        "game_level=3\n",
        "enemies=['hermione','harry','rony']\n",
        "if game_level<5:\n",
        "  first_enemy=enemies[0]\n",
        "print(first_enemy)"
      ],
      "execution_count": null,
      "outputs": [
        {
          "output_type": "stream",
          "text": [
            "hermione\n"
          ],
          "name": "stdout"
        }
      ]
    },
    {
      "cell_type": "code",
      "metadata": {
        "id": "TrB15jrFlSB-"
      },
      "source": [
        "logo=\"\"\" \n",
        " _______  __   __  _______  _______  _______    _______  __   __  _______    __    _  __   __  __   __  _______  _______  ______     \n",
        "|       ||  | |  ||       ||       ||       |  |       ||  | |  ||       |  |  |  | ||  | |  ||  |_|  ||  _    ||       ||    _ |    \n",
        "|    ___||  | |  ||    ___||  _____||  _____|  |_     _||  |_|  ||    ___|  |   |_| ||  | |  ||       || |_|   ||    ___||   | ||    \n",
        "|   | __ |  |_|  ||   |___ | |_____ | |_____     |   |  |       ||   |___   |       ||  |_|  ||       ||       ||   |___ |   |_||_   \n",
        "|   ||  ||       ||    ___||_____  ||_____  |    |   |  |       ||    ___|  |  _    ||       ||       ||  _   | |    ___||    __  |  \n",
        "|   |_| ||       ||   |___  _____| | _____| |    |   |  |   _   ||   |___   | | |   ||       || ||_|| || |_|   ||   |___ |   |  | |  \n",
        "|_______||_______||_______||_______||_______|    |___|  |__| |__||_______|  |_|  |__||_______||_|   |_||_______||_______||___|  |_|  \n",
        "\"\"\""
      ],
      "execution_count": 4,
      "outputs": []
    },
    {
      "cell_type": "code",
      "metadata": {
        "id": "QhlZi6z_GlIt"
      },
      "source": [
        "LIVES_EASY=10\n",
        "LIVES_HARD=5\n",
        "\n",
        "def set_level():\n",
        "  level = input(\"Choose a difficulty. Type 'easy' or 'hard': \")\n",
        "  if level == 'easy':\n",
        "    return LIVES_EASY\n",
        "  elif level == 'hard':\n",
        "    return LIVES_HARD\n",
        "  else:\n",
        "    print(\"Wrong choice. Restart.\")\n",
        "    exit()\n",
        "\n",
        "def avalia(n,guess,lives):\n",
        "  if guess>n:\n",
        "    print(\"Too high.\")\n",
        "    return lives-1\n",
        "  elif guess<n:\n",
        "    print(f\"Too low.\")\n",
        "    return lives-1  \n",
        "  else:\n",
        "    print(f\"You got it! The number is {guess}.\")\n",
        "    return 0\n",
        "\n",
        "def game():\n",
        "  print(logo)\n",
        "  import random\n",
        "  n= random.randint(1,100)\n",
        "  print(f'Welcome to the Number Guessing Game!\\nI\\'m thinking of a number between 1 and 100.\\nPssst, the correct answer is {n}.')\n",
        "  lives=set_level()\n",
        "  guess=0\n",
        "  while lives>0 and guess != n:\n",
        "    print(f\"You have {lives} attempts remaining to guess the number.\")\n",
        "    guess=int(input('Make a guess: \\n'))\n",
        "    lives=avalia(n,guess,lives)\n",
        "    if guess != n and lives>0:\n",
        "      print(\"Guess again.\")\n",
        "    if guess != n and lives==0:\n",
        "      print('You\\'ve run out of guesses, you lose.')\n",
        "    \n",
        "  \n",
        "\n"
      ],
      "execution_count": 5,
      "outputs": []
    },
    {
      "cell_type": "code",
      "metadata": {
        "colab": {
          "base_uri": "https://localhost:8080/"
        },
        "id": "cpNNziMVje0U",
        "outputId": "16051c6a-69d1-45a2-e65a-be08b771322f"
      },
      "source": [
        "game()"
      ],
      "execution_count": 6,
      "outputs": [
        {
          "output_type": "stream",
          "text": [
            " \n",
            " _______  __   __  _______  _______  _______    _______  __   __  _______    __    _  __   __  __   __  _______  _______  ______     \n",
            "|       ||  | |  ||       ||       ||       |  |       ||  | |  ||       |  |  |  | ||  | |  ||  |_|  ||  _    ||       ||    _ |    \n",
            "|    ___||  | |  ||    ___||  _____||  _____|  |_     _||  |_|  ||    ___|  |   |_| ||  | |  ||       || |_|   ||    ___||   | ||    \n",
            "|   | __ |  |_|  ||   |___ | |_____ | |_____     |   |  |       ||   |___   |       ||  |_|  ||       ||       ||   |___ |   |_||_   \n",
            "|   ||  ||       ||    ___||_____  ||_____  |    |   |  |       ||    ___|  |  _    ||       ||       ||  _   | |    ___||    __  |  \n",
            "|   |_| ||       ||   |___  _____| | _____| |    |   |  |   _   ||   |___   | | |   ||       || ||_|| || |_|   ||   |___ |   |  | |  \n",
            "|_______||_______||_______||_______||_______|    |___|  |__| |__||_______|  |_|  |__||_______||_|   |_||_______||_______||___|  |_|  \n",
            "\n",
            "Welcome to the Number Guessing Game!\n",
            "I'm thinking of a number between 1 and 100.\n",
            "Pssst, the correct answer is 57.\n",
            "Choose a difficulty. Type 'easy' or 'hard': hard\n",
            "You have 5 attempts remaining to guess the number.\n",
            "Make a guess: \n",
            "50\n",
            "Too low.\n",
            "Guess again.\n",
            "You have 4 attempts remaining to guess the number.\n",
            "Make a guess: \n",
            "75\n",
            "Too high.\n",
            "Guess again.\n",
            "You have 3 attempts remaining to guess the number.\n",
            "Make a guess: \n",
            "62\n",
            "Too high.\n",
            "Guess again.\n",
            "You have 2 attempts remaining to guess the number.\n",
            "Make a guess: \n",
            "54\n",
            "Too low.\n",
            "Guess again.\n",
            "You have 1 attempts remaining to guess the number.\n",
            "Make a guess: \n",
            "56\n",
            "Too low.\n",
            "You've run out of guesses, you lose.\n"
          ],
          "name": "stdout"
        }
      ]
    }
  ]
}